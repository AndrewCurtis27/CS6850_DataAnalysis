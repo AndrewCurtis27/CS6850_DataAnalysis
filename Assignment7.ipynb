{
 "cells": [
  {
   "cell_type": "code",
   "execution_count": 84,
   "id": "5ff0fda4-c733-4530-b033-cae8325ffce3",
   "metadata": {},
   "outputs": [],
   "source": [
    "import numpy as np\n",
    "import math\n",
    "import pandas as pd\n",
    "import seaborn as sns\n",
    "import matplotlib.pyplot as plt\n",
    "\n",
    "from sklearn.model_selection import train_test_split\n",
    "from sklearn import tree\n",
    "from sklearn.metrics import accuracy_score\n",
    "\n",
    "from sklearn.model_selection import GridSearchCV\n",
    "from sklearn.model_selection import RandomizedSearchCV\n",
    "from sklearn.model_selection import cross_val_score\n",
    "\n",
    "from sklearn.metrics import precision_recall_fscore_support\n",
    "from sklearn.metrics import confusion_matrix\n",
    "from sklearn.metrics import classification_report"
   ]
  },
  {
   "cell_type": "markdown",
   "id": "7e71512c-9785-4d5f-941d-1195077c3e35",
   "metadata": {},
   "source": [
    "# Question 1 a)"
   ]
  },
  {
   "cell_type": "code",
   "execution_count": 38,
   "id": "7d488846-b3c3-49ca-b92f-73d79cfff78b",
   "metadata": {},
   "outputs": [
    {
     "data": {
      "text/html": [
       "<div>\n",
       "<style scoped>\n",
       "    .dataframe tbody tr th:only-of-type {\n",
       "        vertical-align: middle;\n",
       "    }\n",
       "\n",
       "    .dataframe tbody tr th {\n",
       "        vertical-align: top;\n",
       "    }\n",
       "\n",
       "    .dataframe thead th {\n",
       "        text-align: right;\n",
       "    }\n",
       "</style>\n",
       "<table border=\"1\" class=\"dataframe\">\n",
       "  <thead>\n",
       "    <tr style=\"text-align: right;\">\n",
       "      <th></th>\n",
       "      <th>date</th>\n",
       "      <th>Temperature</th>\n",
       "      <th>Humidity</th>\n",
       "      <th>Light</th>\n",
       "      <th>CO2</th>\n",
       "      <th>HumidityRatio</th>\n",
       "      <th>Occupancy</th>\n",
       "    </tr>\n",
       "  </thead>\n",
       "  <tbody>\n",
       "    <tr>\n",
       "      <th>0</th>\n",
       "      <td>2/4/2015 17:51</td>\n",
       "      <td>23.18</td>\n",
       "      <td>27.2720</td>\n",
       "      <td>426.0</td>\n",
       "      <td>721.250000</td>\n",
       "      <td>0.004793</td>\n",
       "      <td>1</td>\n",
       "    </tr>\n",
       "    <tr>\n",
       "      <th>1</th>\n",
       "      <td>2/4/2015 17:51</td>\n",
       "      <td>23.15</td>\n",
       "      <td>27.2675</td>\n",
       "      <td>429.5</td>\n",
       "      <td>714.000000</td>\n",
       "      <td>0.004783</td>\n",
       "      <td>1</td>\n",
       "    </tr>\n",
       "    <tr>\n",
       "      <th>2</th>\n",
       "      <td>2/4/2015 17:53</td>\n",
       "      <td>23.15</td>\n",
       "      <td>27.2450</td>\n",
       "      <td>426.0</td>\n",
       "      <td>713.500000</td>\n",
       "      <td>0.004779</td>\n",
       "      <td>1</td>\n",
       "    </tr>\n",
       "    <tr>\n",
       "      <th>3</th>\n",
       "      <td>2/4/2015 17:54</td>\n",
       "      <td>23.15</td>\n",
       "      <td>27.2000</td>\n",
       "      <td>426.0</td>\n",
       "      <td>708.250000</td>\n",
       "      <td>0.004772</td>\n",
       "      <td>1</td>\n",
       "    </tr>\n",
       "    <tr>\n",
       "      <th>4</th>\n",
       "      <td>2/4/2015 17:55</td>\n",
       "      <td>23.10</td>\n",
       "      <td>27.2000</td>\n",
       "      <td>426.0</td>\n",
       "      <td>704.500000</td>\n",
       "      <td>0.004757</td>\n",
       "      <td>1</td>\n",
       "    </tr>\n",
       "    <tr>\n",
       "      <th>...</th>\n",
       "      <td>...</td>\n",
       "      <td>...</td>\n",
       "      <td>...</td>\n",
       "      <td>...</td>\n",
       "      <td>...</td>\n",
       "      <td>...</td>\n",
       "      <td>...</td>\n",
       "    </tr>\n",
       "    <tr>\n",
       "      <th>7341</th>\n",
       "      <td>2/10/2015 9:29</td>\n",
       "      <td>21.05</td>\n",
       "      <td>36.0975</td>\n",
       "      <td>433.0</td>\n",
       "      <td>787.250000</td>\n",
       "      <td>0.005579</td>\n",
       "      <td>1</td>\n",
       "    </tr>\n",
       "    <tr>\n",
       "      <th>7342</th>\n",
       "      <td>2/10/2015 9:29</td>\n",
       "      <td>21.05</td>\n",
       "      <td>35.9950</td>\n",
       "      <td>433.0</td>\n",
       "      <td>789.500000</td>\n",
       "      <td>0.005563</td>\n",
       "      <td>1</td>\n",
       "    </tr>\n",
       "    <tr>\n",
       "      <th>7343</th>\n",
       "      <td>2/10/2015 9:30</td>\n",
       "      <td>21.10</td>\n",
       "      <td>36.0950</td>\n",
       "      <td>433.0</td>\n",
       "      <td>798.500000</td>\n",
       "      <td>0.005596</td>\n",
       "      <td>1</td>\n",
       "    </tr>\n",
       "    <tr>\n",
       "      <th>7344</th>\n",
       "      <td>2/10/2015 9:32</td>\n",
       "      <td>21.10</td>\n",
       "      <td>36.2600</td>\n",
       "      <td>433.0</td>\n",
       "      <td>820.333333</td>\n",
       "      <td>0.005621</td>\n",
       "      <td>1</td>\n",
       "    </tr>\n",
       "    <tr>\n",
       "      <th>7345</th>\n",
       "      <td>2/10/2015 9:33</td>\n",
       "      <td>21.10</td>\n",
       "      <td>36.2000</td>\n",
       "      <td>447.0</td>\n",
       "      <td>821.000000</td>\n",
       "      <td>0.005612</td>\n",
       "      <td>1</td>\n",
       "    </tr>\n",
       "  </tbody>\n",
       "</table>\n",
       "<p>7346 rows × 7 columns</p>\n",
       "</div>"
      ],
      "text/plain": [
       "                date  Temperature  Humidity  Light         CO2  HumidityRatio  \\\n",
       "0     2/4/2015 17:51        23.18   27.2720  426.0  721.250000       0.004793   \n",
       "1     2/4/2015 17:51        23.15   27.2675  429.5  714.000000       0.004783   \n",
       "2     2/4/2015 17:53        23.15   27.2450  426.0  713.500000       0.004779   \n",
       "3     2/4/2015 17:54        23.15   27.2000  426.0  708.250000       0.004772   \n",
       "4     2/4/2015 17:55        23.10   27.2000  426.0  704.500000       0.004757   \n",
       "...              ...          ...       ...    ...         ...            ...   \n",
       "7341  2/10/2015 9:29        21.05   36.0975  433.0  787.250000       0.005579   \n",
       "7342  2/10/2015 9:29        21.05   35.9950  433.0  789.500000       0.005563   \n",
       "7343  2/10/2015 9:30        21.10   36.0950  433.0  798.500000       0.005596   \n",
       "7344  2/10/2015 9:32        21.10   36.2600  433.0  820.333333       0.005621   \n",
       "7345  2/10/2015 9:33        21.10   36.2000  447.0  821.000000       0.005612   \n",
       "\n",
       "      Occupancy  \n",
       "0             1  \n",
       "1             1  \n",
       "2             1  \n",
       "3             1  \n",
       "4             1  \n",
       "...         ...  \n",
       "7341          1  \n",
       "7342          1  \n",
       "7343          1  \n",
       "7344          1  \n",
       "7345          1  \n",
       "\n",
       "[7346 rows x 7 columns]"
      ]
     },
     "execution_count": 38,
     "metadata": {},
     "output_type": "execute_result"
    }
   ],
   "source": [
    "train_office_df = pd.read_csv(\"train_office.csv\")\n",
    "train_office_df"
   ]
  },
  {
   "cell_type": "code",
   "execution_count": 39,
   "id": "f2a56655-697b-4c13-95b7-689a3b2444b3",
   "metadata": {},
   "outputs": [],
   "source": [
    "# train_office_df = pd.to_datetime(train_office_df.date)\n",
    "train_office_df = train_office_df.drop(['date'], axis=1)"
   ]
  },
  {
   "cell_type": "code",
   "execution_count": 40,
   "id": "9c417750-a2e9-4029-94c6-af846501dbb8",
   "metadata": {},
   "outputs": [
    {
     "data": {
      "text/plain": [
       "Index(['Temperature', 'Humidity', 'Light', 'CO2', 'HumidityRatio',\n",
       "       'Occupancy'],\n",
       "      dtype='object')"
      ]
     },
     "execution_count": 40,
     "metadata": {},
     "output_type": "execute_result"
    }
   ],
   "source": [
    "train_office_df.columns"
   ]
  },
  {
   "cell_type": "code",
   "execution_count": 41,
   "id": "f08494a5-30b5-4422-8098-d5f408fab97d",
   "metadata": {},
   "outputs": [
    {
     "data": {
      "text/html": [
       "<div>\n",
       "<style scoped>\n",
       "    .dataframe tbody tr th:only-of-type {\n",
       "        vertical-align: middle;\n",
       "    }\n",
       "\n",
       "    .dataframe tbody tr th {\n",
       "        vertical-align: top;\n",
       "    }\n",
       "\n",
       "    .dataframe thead th {\n",
       "        text-align: right;\n",
       "    }\n",
       "</style>\n",
       "<table border=\"1\" class=\"dataframe\">\n",
       "  <thead>\n",
       "    <tr style=\"text-align: right;\">\n",
       "      <th></th>\n",
       "      <th>Temperature</th>\n",
       "      <th>Humidity</th>\n",
       "      <th>Light</th>\n",
       "      <th>CO2</th>\n",
       "      <th>HumidityRatio</th>\n",
       "    </tr>\n",
       "  </thead>\n",
       "  <tbody>\n",
       "    <tr>\n",
       "      <th>0</th>\n",
       "      <td>23.18</td>\n",
       "      <td>27.2720</td>\n",
       "      <td>426.0</td>\n",
       "      <td>721.250000</td>\n",
       "      <td>0.004793</td>\n",
       "    </tr>\n",
       "    <tr>\n",
       "      <th>1</th>\n",
       "      <td>23.15</td>\n",
       "      <td>27.2675</td>\n",
       "      <td>429.5</td>\n",
       "      <td>714.000000</td>\n",
       "      <td>0.004783</td>\n",
       "    </tr>\n",
       "    <tr>\n",
       "      <th>2</th>\n",
       "      <td>23.15</td>\n",
       "      <td>27.2450</td>\n",
       "      <td>426.0</td>\n",
       "      <td>713.500000</td>\n",
       "      <td>0.004779</td>\n",
       "    </tr>\n",
       "    <tr>\n",
       "      <th>3</th>\n",
       "      <td>23.15</td>\n",
       "      <td>27.2000</td>\n",
       "      <td>426.0</td>\n",
       "      <td>708.250000</td>\n",
       "      <td>0.004772</td>\n",
       "    </tr>\n",
       "    <tr>\n",
       "      <th>4</th>\n",
       "      <td>23.10</td>\n",
       "      <td>27.2000</td>\n",
       "      <td>426.0</td>\n",
       "      <td>704.500000</td>\n",
       "      <td>0.004757</td>\n",
       "    </tr>\n",
       "    <tr>\n",
       "      <th>...</th>\n",
       "      <td>...</td>\n",
       "      <td>...</td>\n",
       "      <td>...</td>\n",
       "      <td>...</td>\n",
       "      <td>...</td>\n",
       "    </tr>\n",
       "    <tr>\n",
       "      <th>7341</th>\n",
       "      <td>21.05</td>\n",
       "      <td>36.0975</td>\n",
       "      <td>433.0</td>\n",
       "      <td>787.250000</td>\n",
       "      <td>0.005579</td>\n",
       "    </tr>\n",
       "    <tr>\n",
       "      <th>7342</th>\n",
       "      <td>21.05</td>\n",
       "      <td>35.9950</td>\n",
       "      <td>433.0</td>\n",
       "      <td>789.500000</td>\n",
       "      <td>0.005563</td>\n",
       "    </tr>\n",
       "    <tr>\n",
       "      <th>7343</th>\n",
       "      <td>21.10</td>\n",
       "      <td>36.0950</td>\n",
       "      <td>433.0</td>\n",
       "      <td>798.500000</td>\n",
       "      <td>0.005596</td>\n",
       "    </tr>\n",
       "    <tr>\n",
       "      <th>7344</th>\n",
       "      <td>21.10</td>\n",
       "      <td>36.2600</td>\n",
       "      <td>433.0</td>\n",
       "      <td>820.333333</td>\n",
       "      <td>0.005621</td>\n",
       "    </tr>\n",
       "    <tr>\n",
       "      <th>7345</th>\n",
       "      <td>21.10</td>\n",
       "      <td>36.2000</td>\n",
       "      <td>447.0</td>\n",
       "      <td>821.000000</td>\n",
       "      <td>0.005612</td>\n",
       "    </tr>\n",
       "  </tbody>\n",
       "</table>\n",
       "<p>7346 rows × 5 columns</p>\n",
       "</div>"
      ],
      "text/plain": [
       "      Temperature  Humidity  Light         CO2  HumidityRatio\n",
       "0           23.18   27.2720  426.0  721.250000       0.004793\n",
       "1           23.15   27.2675  429.5  714.000000       0.004783\n",
       "2           23.15   27.2450  426.0  713.500000       0.004779\n",
       "3           23.15   27.2000  426.0  708.250000       0.004772\n",
       "4           23.10   27.2000  426.0  704.500000       0.004757\n",
       "...           ...       ...    ...         ...            ...\n",
       "7341        21.05   36.0975  433.0  787.250000       0.005579\n",
       "7342        21.05   35.9950  433.0  789.500000       0.005563\n",
       "7343        21.10   36.0950  433.0  798.500000       0.005596\n",
       "7344        21.10   36.2600  433.0  820.333333       0.005621\n",
       "7345        21.10   36.2000  447.0  821.000000       0.005612\n",
       "\n",
       "[7346 rows x 5 columns]"
      ]
     },
     "execution_count": 41,
     "metadata": {},
     "output_type": "execute_result"
    }
   ],
   "source": [
    "X = train_office_df.drop(['Occupancy'], axis=1)\n",
    "X"
   ]
  },
  {
   "cell_type": "code",
   "execution_count": 42,
   "id": "15308bbb-afa9-48d4-be39-e6820e46e480",
   "metadata": {},
   "outputs": [
    {
     "data": {
      "text/html": [
       "<div>\n",
       "<style scoped>\n",
       "    .dataframe tbody tr th:only-of-type {\n",
       "        vertical-align: middle;\n",
       "    }\n",
       "\n",
       "    .dataframe tbody tr th {\n",
       "        vertical-align: top;\n",
       "    }\n",
       "\n",
       "    .dataframe thead th {\n",
       "        text-align: right;\n",
       "    }\n",
       "</style>\n",
       "<table border=\"1\" class=\"dataframe\">\n",
       "  <thead>\n",
       "    <tr style=\"text-align: right;\">\n",
       "      <th></th>\n",
       "      <th>Occupancy</th>\n",
       "    </tr>\n",
       "  </thead>\n",
       "  <tbody>\n",
       "    <tr>\n",
       "      <th>0</th>\n",
       "      <td>1</td>\n",
       "    </tr>\n",
       "    <tr>\n",
       "      <th>1</th>\n",
       "      <td>1</td>\n",
       "    </tr>\n",
       "    <tr>\n",
       "      <th>2</th>\n",
       "      <td>1</td>\n",
       "    </tr>\n",
       "    <tr>\n",
       "      <th>3</th>\n",
       "      <td>1</td>\n",
       "    </tr>\n",
       "    <tr>\n",
       "      <th>4</th>\n",
       "      <td>1</td>\n",
       "    </tr>\n",
       "    <tr>\n",
       "      <th>...</th>\n",
       "      <td>...</td>\n",
       "    </tr>\n",
       "    <tr>\n",
       "      <th>7341</th>\n",
       "      <td>1</td>\n",
       "    </tr>\n",
       "    <tr>\n",
       "      <th>7342</th>\n",
       "      <td>1</td>\n",
       "    </tr>\n",
       "    <tr>\n",
       "      <th>7343</th>\n",
       "      <td>1</td>\n",
       "    </tr>\n",
       "    <tr>\n",
       "      <th>7344</th>\n",
       "      <td>1</td>\n",
       "    </tr>\n",
       "    <tr>\n",
       "      <th>7345</th>\n",
       "      <td>1</td>\n",
       "    </tr>\n",
       "  </tbody>\n",
       "</table>\n",
       "<p>7346 rows × 1 columns</p>\n",
       "</div>"
      ],
      "text/plain": [
       "      Occupancy\n",
       "0             1\n",
       "1             1\n",
       "2             1\n",
       "3             1\n",
       "4             1\n",
       "...         ...\n",
       "7341          1\n",
       "7342          1\n",
       "7343          1\n",
       "7344          1\n",
       "7345          1\n",
       "\n",
       "[7346 rows x 1 columns]"
      ]
     },
     "execution_count": 42,
     "metadata": {},
     "output_type": "execute_result"
    }
   ],
   "source": [
    "Y = pd.DataFrame(train_office_df.Occupancy.copy())\n",
    "Y"
   ]
  },
  {
   "cell_type": "code",
   "execution_count": 50,
   "id": "b406bd2b-5e9c-4a9a-b06f-b496d7db41fb",
   "metadata": {},
   "outputs": [],
   "source": [
    "X_train, X_test, Y_train, Y_test = train_test_split(X, Y, test_size = 0.8, random_state=1)"
   ]
  },
  {
   "cell_type": "code",
   "execution_count": 52,
   "id": "6257e9aa-296d-4bd1-a4fa-e4fff19a8370",
   "metadata": {},
   "outputs": [],
   "source": [
    "clf = tree.DecisionTreeClassifier()\n",
    "clf = clf.fit(X_train, Y_train)\n",
    "Y_pred = clf.predict(X_test)"
   ]
  },
  {
   "cell_type": "code",
   "execution_count": 57,
   "id": "80ad8e8d-593a-4fd1-b84f-f993b730a7c4",
   "metadata": {},
   "outputs": [
    {
     "data": {
      "text/plain": [
       "array([0.9585034 , 0.95371001, 0.79782165, 0.98025868, 0.91218516])"
      ]
     },
     "execution_count": 57,
     "metadata": {},
     "output_type": "execute_result"
    }
   ],
   "source": [
    "clf = tree.DecisionTreeClassifier()\n",
    "scores = cross_val_score(clf, X, Y, cv=5)\n",
    "scores"
   ]
  },
  {
   "cell_type": "code",
   "execution_count": 59,
   "id": "2c7c31cb-c0a8-414b-b15c-8ad70491d06a",
   "metadata": {},
   "outputs": [
    {
     "name": "stdout",
     "output_type": "stream",
     "text": [
      "Accuracy: 0.92 (+/- 0.13)\n"
     ]
    }
   ],
   "source": [
    "print(\"Accuracy: %0.2f (+/- %0.2f)\" % (scores.mean(), scores.std()*2))"
   ]
  },
  {
   "cell_type": "code",
   "execution_count": 68,
   "id": "6ee3fcba-a12d-4770-85aa-1b1fa5e5a2b8",
   "metadata": {},
   "outputs": [
    {
     "name": "stdout",
     "output_type": "stream",
     "text": [
      "Depth:  1\n",
      "Accuracy: 0.98 (+/- 0.05)\n",
      "Depth:  5\n",
      "Accuracy: 0.93 (+/- 0.08)\n",
      "Depth:  10\n",
      "Accuracy: 0.92 (+/- 0.12)\n",
      "Depth:  50\n",
      "Accuracy: 0.92 (+/- 0.14)\n",
      "Depth:  100\n",
      "Accuracy: 0.92 (+/- 0.11)\n"
     ]
    }
   ],
   "source": [
    "max_depths = [1, 5, 10, 50, 100]\n",
    "tree_accuracy = []\n",
    "\n",
    "for depth in max_depths:\n",
    "    clf = tree.DecisionTreeClassifier(max_depth=depth)\n",
    "    scores = cross_val_score(clf, X, Y, cv=5)\n",
    "    print(\"Depth: \", depth)\n",
    "    print(\"Accuracy: %0.2f (+/- %0.2f)\" % (scores.mean(), scores.std()*2))\n",
    "    tree_accuracy.append(scores.mean())"
   ]
  },
  {
   "cell_type": "code",
   "execution_count": 80,
   "id": "f5bce2f0-8fe0-421a-ba9e-9b22f9fb5920",
   "metadata": {},
   "outputs": [
    {
     "name": "stderr",
     "output_type": "stream",
     "text": [
      "C:\\Users\\arist\\anaconda3\\lib\\site-packages\\seaborn\\_decorators.py:36: FutureWarning: Pass the following variables as keyword args: x, y. From version 0.12, the only valid positional argument will be `data`, and passing other arguments without an explicit keyword will result in an error or misinterpretation.\n",
      "  warnings.warn(\n"
     ]
    },
    {
     "data": {
      "text/plain": [
       "(0.9, 1.0)"
      ]
     },
     "execution_count": 80,
     "metadata": {},
     "output_type": "execute_result"
    },
    {
     "data": {
      "image/png": "[encoded data removed]",
      "text/plain": [
       "<Figure size 432x288 with 1 Axes>"
      ]
     },
     "metadata": {
      "needs_background": "light"
     },
     "output_type": "display_data"
    }
   ],
   "source": [
    "sns.lineplot(max_depths, tree_accuracy)\n",
    "plt.xlabel(\"tree depth\")\n",
    "plt.ylabel(\"accuracy %\")\n",
    "plt.ylim([0.9, 1])"
   ]
  },
  {
   "cell_type": "code",
   "execution_count": 70,
   "id": "07285efa-80c0-4b97-91b1-5e32362ed289",
   "metadata": {},
   "outputs": [
    {
     "name": "stdout",
     "output_type": "stream",
     "text": [
      "Neighbors:  1\n",
      "Accuracy: 0.94 (+/- 0.16)\n",
      "Neighbors:  2\n",
      "Accuracy: 0.94 (+/- 0.12)\n",
      "Neighbors:  3\n",
      "Accuracy: 0.94 (+/- 0.14)\n",
      "Neighbors:  4\n",
      "Accuracy: 0.95 (+/- 0.13)\n",
      "Neighbors:  5\n",
      "Accuracy: 0.95 (+/- 0.12)\n",
      "Neighbors:  10\n",
      "Accuracy: 0.95 (+/- 0.10)\n",
      "Neighbors:  15\n",
      "Accuracy: 0.96 (+/- 0.08)\n"
     ]
    }
   ],
   "source": [
    "from sklearn.neighbors import KNeighborsClassifier\n",
    "\n",
    "neighbors = [1, 2, 3, 4, 5, 10, 15]\n",
    "knn_accuracy = []\n",
    "\n",
    "for k in neighbors:\n",
    "    neigh = KNeighborsClassifier(n_neighbors=k)\n",
    "    scores = cross_val_score(neigh, X, np.ravel(Y), cv=5)\n",
    "    print(\"Neighbors: \", k)\n",
    "    print(\"Accuracy: %0.2f (+/- %0.2f)\" % (scores.mean(), scores.std()*2))\n",
    "    knn_accuracy.append(scores.mean())\n"
   ]
  },
  {
   "cell_type": "code",
   "execution_count": 81,
   "id": "862a3594-73de-4f79-9182-750dfeb77f18",
   "metadata": {},
   "outputs": [
    {
     "name": "stderr",
     "output_type": "stream",
     "text": [
      "C:\\Users\\arist\\anaconda3\\lib\\site-packages\\seaborn\\_decorators.py:36: FutureWarning: Pass the following variables as keyword args: x, y. From version 0.12, the only valid positional argument will be `data`, and passing other arguments without an explicit keyword will result in an error or misinterpretation.\n",
      "  warnings.warn(\n"
     ]
    },
    {
     "data": {
      "text/plain": [
       "(0.9, 1.0)"
      ]
     },
     "execution_count": 81,
     "metadata": {},
     "output_type": "execute_result"
    },
    {
     "data": {
      "image/png": "[encoded data removed]",
      "text/plain": [
       "<Figure size 432x288 with 1 Axes>"
      ]
     },
     "metadata": {
      "needs_background": "light"
     },
     "output_type": "display_data"
    }
   ],
   "source": [
    "sns.lineplot(neighbors, knn_accuracy)\n",
    "plt.xlabel(\"# of neighbors\")\n",
    "plt.ylabel(\"accuracy %\")\n",
    "plt.ylim([0.9, 1])"
   ]
  },
  {
   "cell_type": "code",
   "execution_count": 72,
   "id": "b21dd127-9c2e-489f-8fbe-65dc0afb04c6",
   "metadata": {},
   "outputs": [
    {
     "name": "stdout",
     "output_type": "stream",
     "text": [
      "C:  0.001\n",
      "Accuracy: 0.98 (+/- 0.03)\n",
      "C:  0.01\n",
      "Accuracy: 0.98 (+/- 0.03)\n",
      "C:  0.1\n",
      "Accuracy: 0.98 (+/- 0.03)\n",
      "C:  0.5\n",
      "Accuracy: 0.99 (+/- 0.03)\n",
      "C:  1\n",
      "Accuracy: 0.98 (+/- 0.03)\n"
     ]
    }
   ],
   "source": [
    "from sklearn.linear_model import LogisticRegression\n",
    "\n",
    "C = [0.001, 0.01, 0.1, 0.5, 1]\n",
    "LR_accuracy = []\n",
    "\n",
    "for c in C:\n",
    "    LR = LogisticRegression(C=c)\n",
    "    scores = cross_val_score(LR, X, np.ravel(Y), cv=5)\n",
    "    print(\"C: \", c)\n",
    "    print(\"Accuracy: %0.2f (+/- %0.2f)\" % (scores.mean(), scores.std()*2))\n",
    "    LR_accuracy.append(scores.mean())"
   ]
  },
  {
   "cell_type": "code",
   "execution_count": 82,
   "id": "64084df7-944e-4a42-9601-98cf348a1430",
   "metadata": {},
   "outputs": [
    {
     "name": "stderr",
     "output_type": "stream",
     "text": [
      "C:\\Users\\arist\\anaconda3\\lib\\site-packages\\seaborn\\_decorators.py:36: FutureWarning: Pass the following variables as keyword args: x, y. From version 0.12, the only valid positional argument will be `data`, and passing other arguments without an explicit keyword will result in an error or misinterpretation.\n",
      "  warnings.warn(\n"
     ]
    },
    {
     "data": {
      "text/plain": [
       "(0.9, 1.0)"
      ]
     },
     "execution_count": 82,
     "metadata": {},
     "output_type": "execute_result"
    },
    {
     "data": {
      "image/png": "[encoded data removed]",
      "text/plain": [
       "<Figure size 432x288 with 1 Axes>"
      ]
     },
     "metadata": {
      "needs_background": "light"
     },
     "output_type": "display_data"
    }
   ],
   "source": [
    "sns.lineplot(C, LR_accuracy)\n",
    "plt.xlabel(\"C: Value\")\n",
    "plt.ylabel(\"accuracy %\")\n",
    "plt.ylim([0.9, 1])"
   ]
  },
  {
   "cell_type": "markdown",
   "id": "9efda212-1214-4047-894b-f2321e086d24",
   "metadata": {},
   "source": [
    "# b) Decision Tree: 1 depth, KNN: 15 nearest neighbors, Logistic Regression: 0.5 C"
   ]
  },
  {
   "cell_type": "markdown",
   "id": "948b15f2-a9c0-4145-b2a7-dbbb94cb8114",
   "metadata": {},
   "source": [
    "# c) and d)"
   ]
  },
  {
   "cell_type": "code",
   "execution_count": 88,
   "id": "d5a6ccfd-04ea-40c4-ae96-2822b0856138",
   "metadata": {},
   "outputs": [
    {
     "data": {
      "text/html": [
       "<div>\n",
       "<style scoped>\n",
       "    .dataframe tbody tr th:only-of-type {\n",
       "        vertical-align: middle;\n",
       "    }\n",
       "\n",
       "    .dataframe tbody tr th {\n",
       "        vertical-align: top;\n",
       "    }\n",
       "\n",
       "    .dataframe thead th {\n",
       "        text-align: right;\n",
       "    }\n",
       "</style>\n",
       "<table border=\"1\" class=\"dataframe\">\n",
       "  <thead>\n",
       "    <tr style=\"text-align: right;\">\n",
       "      <th></th>\n",
       "      <th>Occupancy</th>\n",
       "    </tr>\n",
       "  </thead>\n",
       "  <tbody>\n",
       "    <tr>\n",
       "      <th>0</th>\n",
       "      <td>0</td>\n",
       "    </tr>\n",
       "    <tr>\n",
       "      <th>1</th>\n",
       "      <td>0</td>\n",
       "    </tr>\n",
       "    <tr>\n",
       "      <th>2</th>\n",
       "      <td>0</td>\n",
       "    </tr>\n",
       "    <tr>\n",
       "      <th>3</th>\n",
       "      <td>0</td>\n",
       "    </tr>\n",
       "    <tr>\n",
       "      <th>4</th>\n",
       "      <td>0</td>\n",
       "    </tr>\n",
       "    <tr>\n",
       "      <th>...</th>\n",
       "      <td>...</td>\n",
       "    </tr>\n",
       "    <tr>\n",
       "      <th>792</th>\n",
       "      <td>0</td>\n",
       "    </tr>\n",
       "    <tr>\n",
       "      <th>793</th>\n",
       "      <td>0</td>\n",
       "    </tr>\n",
       "    <tr>\n",
       "      <th>794</th>\n",
       "      <td>1</td>\n",
       "    </tr>\n",
       "    <tr>\n",
       "      <th>795</th>\n",
       "      <td>1</td>\n",
       "    </tr>\n",
       "    <tr>\n",
       "      <th>796</th>\n",
       "      <td>1</td>\n",
       "    </tr>\n",
       "  </tbody>\n",
       "</table>\n",
       "<p>797 rows × 1 columns</p>\n",
       "</div>"
      ],
      "text/plain": [
       "     Occupancy\n",
       "0            0\n",
       "1            0\n",
       "2            0\n",
       "3            0\n",
       "4            0\n",
       "..         ...\n",
       "792          0\n",
       "793          0\n",
       "794          1\n",
       "795          1\n",
       "796          1\n",
       "\n",
       "[797 rows x 1 columns]"
      ]
     },
     "execution_count": 88,
     "metadata": {},
     "output_type": "execute_result"
    }
   ],
   "source": [
    "test_office_df = pd.read_csv(\"test_office.csv\")\n",
    "# test_office_df.drop(['date'], axis=1)\n",
    "\n",
    "X_test_set = test_office_df.drop(['date','Occupancy'], axis=1)\n",
    "X_test_set\n",
    "\n",
    "Y_test_set = pd.DataFrame(test_office_df.Occupancy.copy())\n",
    "Y_test_set"
   ]
  },
  {
   "cell_type": "markdown",
   "id": "c566428a-fbeb-497e-b3c3-dea12348ca72",
   "metadata": {},
   "source": [
    "## i) Decision tree, KNN, Logistic Regression, confusion matrices are at the top of each output"
   ]
  },
  {
   "cell_type": "code",
   "execution_count": 118,
   "id": "5b7609e1-0ccd-4f39-86af-746916683b02",
   "metadata": {},
   "outputs": [
    {
     "name": "stdout",
     "output_type": "stream",
     "text": [
      "[[641   6]\n",
      " [  1 149]]\n",
      "              precision    recall  f1-score   support\n",
      "\n",
      "           0       1.00      0.99      0.99       647\n",
      "           1       0.96      0.99      0.98       150\n",
      "\n",
      "    accuracy                           0.99       797\n",
      "   macro avg       0.98      0.99      0.99       797\n",
      "weighted avg       0.99      0.99      0.99       797\n",
      "\n"
     ]
    }
   ],
   "source": [
    "clf = tree.DecisionTreeClassifier(max_depth=1)\n",
    "clf = clf.fit(X, Y)\n",
    "\n",
    "ypred = clf.predict(X_test_set)\n",
    "\n",
    "cm = confusion_matrix(Y_test_set, ypred)\n",
    "print(cm)\n",
    "\n",
    "cr = classification_report(Y_test_set, ypred)\n",
    "print(cr) \n"
   ]
  },
  {
   "cell_type": "code",
   "execution_count": 92,
   "id": "c91f7691-34fd-47e7-8caa-7bfccb810fef",
   "metadata": {},
   "outputs": [
    {
     "name": "stdout",
     "output_type": "stream",
     "text": [
      "[[641   6]\n",
      " [  1 149]]\n",
      "              precision    recall  f1-score   support\n",
      "\n",
      "           0       1.00      0.99      0.99       647\n",
      "           1       0.96      0.99      0.98       150\n",
      "\n",
      "    accuracy                           0.99       797\n",
      "   macro avg       0.98      0.99      0.99       797\n",
      "weighted avg       0.99      0.99      0.99       797\n",
      "\n"
     ]
    }
   ],
   "source": [
    "neigh = KNeighborsClassifier(n_neighbors=15)\n",
    "neigh = neigh.fit(X, np.ravel(Y))\n",
    "\n",
    "ypred = neigh.predict(X_test_set)\n",
    "\n",
    "cm = confusion_matrix(Y_test_set, ypred)\n",
    "print(cm)\n",
    "\n",
    "cr = classification_report(Y_test_set, ypred)\n",
    "print(cr) "
   ]
  },
  {
   "cell_type": "code",
   "execution_count": 94,
   "id": "23c471ac-ddd6-4910-a5d7-cfd24d07b790",
   "metadata": {},
   "outputs": [
    {
     "name": "stdout",
     "output_type": "stream",
     "text": [
      "[[641   6]\n",
      " [  0 150]]\n",
      "              precision    recall  f1-score   support\n",
      "\n",
      "           0       1.00      0.99      1.00       647\n",
      "           1       0.96      1.00      0.98       150\n",
      "\n",
      "    accuracy                           0.99       797\n",
      "   macro avg       0.98      1.00      0.99       797\n",
      "weighted avg       0.99      0.99      0.99       797\n",
      "\n"
     ]
    }
   ],
   "source": [
    "LR = LogisticRegression(C=0.5)\n",
    "LR = LR.fit(X, np.ravel(Y))\n",
    "\n",
    "ypred = LR.predict(X_test_set)\n",
    "\n",
    "cm = confusion_matrix(Y_test_set, ypred)\n",
    "print(cm)\n",
    "\n",
    "lr_cr = classification_report(Y_test_set, ypred)\n",
    "print(lr_cr) "
   ]
  },
  {
   "cell_type": "markdown",
   "id": "c202421a-f6b4-4ea4-a29e-44685ac6ac34",
   "metadata": {},
   "source": [
    "## ii)"
   ]
  },
  {
   "cell_type": "code",
   "execution_count": 100,
   "id": "62c40a2a-657c-463f-9cf1-be15d44e8a50",
   "metadata": {},
   "outputs": [],
   "source": [
    "methods = ['DecisionTree', 'KNN', 'LogisticRegression']\n",
    "precision = [0.99, 0.99, 0.99]\n",
    "recall = [0.99, 0.99, 0.99]\n",
    "f1_score = [0.99, 0.99, 0.99]"
   ]
  },
  {
   "cell_type": "code",
   "execution_count": 104,
   "id": "38b02e7f-aba2-4a2b-8913-5986bfa7434e",
   "metadata": {},
   "outputs": [
    {
     "data": {
      "text/plain": [
       "Text(0, 0.5, 'precision')"
      ]
     },
     "execution_count": 104,
     "metadata": {},
     "output_type": "execute_result"
    },
    {
     "data": {
      "image/png": "[encoded data removed]",
      "text/plain": [
       "<Figure size 432x288 with 1 Axes>"
      ]
     },
     "metadata": {
      "needs_background": "light"
     },
     "output_type": "display_data"
    }
   ],
   "source": [
    "sns.barplot(x=methods, y=precision)\n",
    "plt.ylim([0.9, 1])\n",
    "plt.ylabel(\"precision\")"
   ]
  },
  {
   "cell_type": "code",
   "execution_count": 105,
   "id": "b13fbbb3-f361-4655-8a99-368d36f98494",
   "metadata": {},
   "outputs": [
    {
     "data": {
      "text/plain": [
       "Text(0, 0.5, 'recall')"
      ]
     },
     "execution_count": 105,
     "metadata": {},
     "output_type": "execute_result"
    },
    {
     "data": {
      "image/png": "[encoded data removed]",
      "text/plain": [
       "<Figure size 432x288 with 1 Axes>"
      ]
     },
     "metadata": {
      "needs_background": "light"
     },
     "output_type": "display_data"
    }
   ],
   "source": [
    "sns.barplot(x=methods, y=precision)\n",
    "plt.ylim([0.9, 1])\n",
    "plt.ylabel(\"recall\")"
   ]
  },
  {
   "cell_type": "code",
   "execution_count": 106,
   "id": "f56a71e0-0ff0-46fb-93dd-25faae093078",
   "metadata": {},
   "outputs": [
    {
     "data": {
      "text/plain": [
       "Text(0, 0.5, 'f1-score')"
      ]
     },
     "execution_count": 106,
     "metadata": {},
     "output_type": "execute_result"
    },
    {
     "data": {
      "image/png": "[encoded data removed]",
      "text/plain": [
       "<Figure size 432x288 with 1 Axes>"
      ]
     },
     "metadata": {
      "needs_background": "light"
     },
     "output_type": "display_data"
    }
   ],
   "source": [
    "sns.barplot(x=methods, y=precision)\n",
    "plt.ylim([0.9, 1])\n",
    "plt.ylabel(\"f1-score\")"
   ]
  },
  {
   "cell_type": "markdown",
   "id": "cd13458c-a89a-477f-a1ce-1b1c967af783",
   "metadata": {},
   "source": [
    "## iii)"
   ]
  },
  {
   "cell_type": "code",
   "execution_count": 113,
   "id": "ec28860d-fda9-46f1-80f5-0e1606e368f3",
   "metadata": {},
   "outputs": [
    {
     "name": "stderr",
     "output_type": "stream",
     "text": [
      "C:\\Users\\arist\\anaconda3\\lib\\site-packages\\sklearn\\utils\\deprecation.py:87: FutureWarning: Function plot_roc_curve is deprecated; Function :func:`plot_roc_curve` is deprecated in 1.0 and will be removed in 1.2. Use one of the class methods: :meth:`sklearn.metric.RocCurveDisplay.from_predictions` or :meth:`sklearn.metric.RocCurveDisplay.from_estimator`.\n",
      "  warnings.warn(msg, category=FutureWarning)\n",
      "C:\\Users\\arist\\anaconda3\\lib\\site-packages\\sklearn\\utils\\deprecation.py:87: FutureWarning: Function plot_roc_curve is deprecated; Function :func:`plot_roc_curve` is deprecated in 1.0 and will be removed in 1.2. Use one of the class methods: :meth:`sklearn.metric.RocCurveDisplay.from_predictions` or :meth:`sklearn.metric.RocCurveDisplay.from_estimator`.\n",
      "  warnings.warn(msg, category=FutureWarning)\n",
      "C:\\Users\\arist\\anaconda3\\lib\\site-packages\\sklearn\\utils\\deprecation.py:87: FutureWarning: Function plot_roc_curve is deprecated; Function :func:`plot_roc_curve` is deprecated in 1.0 and will be removed in 1.2. Use one of the class methods: :meth:`sklearn.metric.RocCurveDisplay.from_predictions` or :meth:`sklearn.metric.RocCurveDisplay.from_estimator`.\n",
      "  warnings.warn(msg, category=FutureWarning)\n"
     ]
    },
    {
     "data": {
      "image/png": "[encoded data removed]",
      "text/plain": [
       "<Figure size 432x288 with 1 Axes>"
      ]
     },
     "metadata": {
      "needs_background": "light"
     },
     "output_type": "display_data"
    }
   ],
   "source": [
    "from sklearn.metrics import roc_curve, auc, plot_roc_curve\n",
    "fig, ax = plt.subplots()\n",
    "\n",
    "models = [\n",
    "    (\"DecisionTree\", clf),\n",
    "    (\"KNN\", neigh),\n",
    "    (\"LogisticRegression\", LR)\n",
    "]\n",
    "\n",
    "model_displays = {}\n",
    "for name, fit in models:\n",
    "    model_displays[name] = plot_roc_curve(\n",
    "        fit, X_test_set, Y_test_set, ax=ax, name=name)\n",
    "_ = ax.set_title('ROC curve')"
   ]
  },
  {
   "cell_type": "markdown",
   "id": "e1aa7945-3532-47fb-81a9-3a6dafa7f8f1",
   "metadata": {},
   "source": [
    "# e)"
   ]
  },
  {
   "cell_type": "code",
   "execution_count": 122,
   "id": "cd051410-78ba-4177-9e9a-3ddd8b547908",
   "metadata": {},
   "outputs": [
    {
     "data": {
      "image/svg+xml": [
       "<?xml version=\"1.0\" encoding=\"UTF-8\" standalone=\"no\"?>\n",
       "<!DOCTYPE svg PUBLIC \"-//W3C//DTD SVG 1.1//EN\"\n",
       " \"http://www.w3.org/Graphics/SVG/1.1/DTD/svg11.dtd\">\n",
       "<!-- Generated by graphviz version 2.50.0 (0)\n",
       " -->\n",
       "<!-- Title: Tree Pages: 1 -->\n",
       "<svg width=\"298pt\" height=\"195pt\"\n",
       " viewBox=\"0.00 0.00 297.50 195.00\" xmlns=\"http://www.w3.org/2000/svg\" xmlns:xlink=\"http://www.w3.org/1999/xlink\">\n",
       "<g id=\"graph0\" class=\"graph\" transform=\"scale(1 1) rotate(0) translate(4 191)\">\n",
       "<title>Tree</title>\n",
       "<polygon fill=\"white\" stroke=\"transparent\" points=\"-4,4 -4,-191 293.5,-191 293.5,4 -4,4\"/>\n",
       "<!-- 0 -->\n",
       "<g id=\"node1\" class=\"node\">\n",
       "<title>0</title>\n",
       "<polygon fill=\"#eca36f\" stroke=\"black\" points=\"223,-187 77,-187 77,-104 223,-104 223,-187\"/>\n",
       "<text text-anchor=\"middle\" x=\"150\" y=\"-171.8\" font-family=\"Helvetica,sans-Serif\" font-size=\"14.00\">Light &lt;= 365.125</text>\n",
       "<text text-anchor=\"middle\" x=\"150\" y=\"-156.8\" font-family=\"Helvetica,sans-Serif\" font-size=\"14.00\">gini = 0.337</text>\n",
       "<text text-anchor=\"middle\" x=\"150\" y=\"-141.8\" font-family=\"Helvetica,sans-Serif\" font-size=\"14.00\">samples = 7346</text>\n",
       "<text text-anchor=\"middle\" x=\"150\" y=\"-126.8\" font-family=\"Helvetica,sans-Serif\" font-size=\"14.00\">value = [5767, 1579]</text>\n",
       "<text text-anchor=\"middle\" x=\"150\" y=\"-111.8\" font-family=\"Helvetica,sans-Serif\" font-size=\"14.00\">class = Not Occupied</text>\n",
       "</g>\n",
       "<!-- 1 -->\n",
       "<g id=\"node2\" class=\"node\">\n",
       "<title>1</title>\n",
       "<polygon fill=\"#e58139\" stroke=\"black\" points=\"146,-68 0,-68 0,0 146,0 146,-68\"/>\n",
       "<text text-anchor=\"middle\" x=\"73\" y=\"-52.8\" font-family=\"Helvetica,sans-Serif\" font-size=\"14.00\">gini = 0.003</text>\n",
       "<text text-anchor=\"middle\" x=\"73\" y=\"-37.8\" font-family=\"Helvetica,sans-Serif\" font-size=\"14.00\">samples = 5691</text>\n",
       "<text text-anchor=\"middle\" x=\"73\" y=\"-22.8\" font-family=\"Helvetica,sans-Serif\" font-size=\"14.00\">value = [5683, 8]</text>\n",
       "<text text-anchor=\"middle\" x=\"73\" y=\"-7.8\" font-family=\"Helvetica,sans-Serif\" font-size=\"14.00\">class = Not Occupied</text>\n",
       "</g>\n",
       "<!-- 0&#45;&gt;1 -->\n",
       "<g id=\"edge1\" class=\"edge\">\n",
       "<title>0&#45;&gt;1</title>\n",
       "<path fill=\"none\" stroke=\"black\" d=\"M121.33,-103.73C115.11,-94.88 108.52,-85.51 102.27,-76.63\"/>\n",
       "<polygon fill=\"black\" stroke=\"black\" points=\"105.03,-74.47 96.42,-68.3 99.31,-78.49 105.03,-74.47\"/>\n",
       "<text text-anchor=\"middle\" x=\"92.12\" y=\"-89.23\" font-family=\"Helvetica,sans-Serif\" font-size=\"14.00\">True</text>\n",
       "</g>\n",
       "<!-- 2 -->\n",
       "<g id=\"node3\" class=\"node\">\n",
       "<title>2</title>\n",
       "<polygon fill=\"#44a2e6\" stroke=\"black\" points=\"289.5,-68 164.5,-68 164.5,0 289.5,0 289.5,-68\"/>\n",
       "<text text-anchor=\"middle\" x=\"227\" y=\"-52.8\" font-family=\"Helvetica,sans-Serif\" font-size=\"14.00\">gini = 0.096</text>\n",
       "<text text-anchor=\"middle\" x=\"227\" y=\"-37.8\" font-family=\"Helvetica,sans-Serif\" font-size=\"14.00\">samples = 1655</text>\n",
       "<text text-anchor=\"middle\" x=\"227\" y=\"-22.8\" font-family=\"Helvetica,sans-Serif\" font-size=\"14.00\">value = [84, 1571]</text>\n",
       "<text text-anchor=\"middle\" x=\"227\" y=\"-7.8\" font-family=\"Helvetica,sans-Serif\" font-size=\"14.00\">class = Occupied</text>\n",
       "</g>\n",
       "<!-- 0&#45;&gt;2 -->\n",
       "<g id=\"edge2\" class=\"edge\">\n",
       "<title>0&#45;&gt;2</title>\n",
       "<path fill=\"none\" stroke=\"black\" d=\"M178.67,-103.73C184.89,-94.88 191.48,-85.51 197.73,-76.63\"/>\n",
       "<polygon fill=\"black\" stroke=\"black\" points=\"200.69,-78.49 203.58,-68.3 194.97,-74.47 200.69,-78.49\"/>\n",
       "<text text-anchor=\"middle\" x=\"207.88\" y=\"-89.23\" font-family=\"Helvetica,sans-Serif\" font-size=\"14.00\">False</text>\n",
       "</g>\n",
       "</g>\n",
       "</svg>\n"
      ],
      "text/plain": [
       "<graphviz.sources.Source at 0x1b7c3456580>"
      ]
     },
     "execution_count": 122,
     "metadata": {},
     "output_type": "execute_result"
    }
   ],
   "source": [
    "import graphviz\n",
    "# DOT data\n",
    "dot_data = tree.export_graphviz(clf, out_file=None, \n",
    "                                feature_names=['Temperature', 'Humidity', 'Light', 'CO2', 'HumidityRatio'],  \n",
    "                                class_names=['Not Occupied','Occupied'],\n",
    "                                filled=True)\n",
    "# dot_data = tree.export_graphviz(clf)\n",
    "\n",
    "# Draw graph\n",
    "graph = graphviz.Source(dot_data, format=\"png\") \n",
    "graph"
   ]
  },
  {
   "cell_type": "markdown",
   "id": "a0c67d27-a331-44b2-b772-14d0685b6b03",
   "metadata": {},
   "source": [
    "# Question 2"
   ]
  },
  {
   "cell_type": "markdown",
   "id": "3c8399bc-fc34-43f3-af10-ae0d9c268367",
   "metadata": {},
   "source": [
    "# a)"
   ]
  },
  {
   "cell_type": "code",
   "execution_count": 126,
   "id": "903b0cda-119c-4e86-8f99-5878de137e1f",
   "metadata": {},
   "outputs": [
    {
     "name": "stdout",
     "output_type": "stream",
     "text": [
      "Fitting 5 folds for each of 800 candidates, totalling 4000 fits\n"
     ]
    },
    {
     "data": {
      "text/plain": [
       "RandomForestClassifier(criterion='entropy', max_depth=3, min_samples_leaf=5,\n",
       "                       min_samples_split=3, n_estimators=5)"
      ]
     },
     "execution_count": 126,
     "metadata": {},
     "output_type": "execute_result"
    }
   ],
   "source": [
    "from sklearn.ensemble import RandomForestClassifier\n",
    "from sklearn.datasets import make_classification\n",
    "\n",
    "params = {'n_estimators': [5, 10, 20, 50, 100], 'criterion': ['gini', 'entropy'], 'max_depth': [2, 3, 4, 5, 10],\n",
    "          'min_samples_split' : [2, 3, 4, 5], 'min_samples_leaf' : [2, 3, 4, 5] }\n",
    "\n",
    "grid_search = GridSearchCV(estimator=RandomForestClassifier(), param_grid=params, cv=5, n_jobs=-1,verbose=1, scoring = \"accuracy\")\n",
    "\n",
    "grid_search.fit(X, np.ravel(Y))\n",
    "\n",
    "grid_search.best_estimator_ \n",
    "\n"
   ]
  },
  {
   "cell_type": "markdown",
   "id": "3bd53033-d875-4e81-92bc-fc31d4b56f9c",
   "metadata": {},
   "source": [
    "# b) the Random Forest classifier performs well, similar to the best classifier found in question 1"
   ]
  },
  {
   "cell_type": "code",
   "execution_count": 127,
   "id": "d6d5f36a-1d2f-4c86-801b-d52dec7eafe9",
   "metadata": {},
   "outputs": [],
   "source": [
    "RandomForestClassifier(criterion='entropy', max_depth=3, min_samples_leaf=5,\n",
    "                       min_samples_split=3, n_estimators=5)\n",
    "\n",
    "RF_best = grid_search.best_estimator_ \n",
    "\n",
    "y_pred= RF_best.predict(X_test_set) "
   ]
  },
  {
   "cell_type": "code",
   "execution_count": 128,
   "id": "4e4ead36-742b-4c51-be3a-de8754811475",
   "metadata": {},
   "outputs": [
    {
     "name": "stdout",
     "output_type": "stream",
     "text": [
      "[[641   6]\n",
      " [  1 149]]\n",
      "              precision    recall  f1-score   support\n",
      "\n",
      "           0       1.00      0.99      0.99       647\n",
      "           1       0.96      0.99      0.98       150\n",
      "\n",
      "    accuracy                           0.99       797\n",
      "   macro avg       0.98      0.99      0.99       797\n",
      "weighted avg       0.99      0.99      0.99       797\n",
      "\n"
     ]
    }
   ],
   "source": [
    "cm = confusion_matrix(Y_test_set, ypred)\n",
    "print(cm)\n",
    "\n",
    "cr = classification_report(Y_test_set, ypred)\n",
    "print(cr) "
   ]
  },
  {
   "cell_type": "code",
   "execution_count": 138,
   "id": "ceef37e9-2faa-4222-8215-29de806bbbf1",
   "metadata": {},
   "outputs": [
    {
     "data": {
      "text/plain": [
       "Text(0.5, 1.0, 'ROC curve')"
      ]
     },
     "execution_count": 138,
     "metadata": {},
     "output_type": "execute_result"
    },
    {
     "data": {
      "image/png": "[encoded data removed]",
      "text/plain": [
       "<Figure size 432x288 with 1 Axes>"
      ]
     },
     "metadata": {
      "needs_background": "light"
     },
     "output_type": "display_data"
    }
   ],
   "source": [
    "from sklearn.metrics import RocCurveDisplay\n",
    "RocCurveDisplay.from_estimator(RF_best, X_test_set, Y_test_set)\n",
    "plt.title('ROC curve')"
   ]
  },
  {
   "cell_type": "markdown",
   "id": "a8a449dd-8667-44b1-b68c-42ac063dac21",
   "metadata": {},
   "source": [
    "# Question 3"
   ]
  },
  {
   "cell_type": "code",
   "execution_count": 218,
   "id": "8f61170e-f2bc-45dc-abcf-f23a95ab0730",
   "metadata": {},
   "outputs": [
    {
     "data": {
      "text/html": [
       "<div>\n",
       "<style scoped>\n",
       "    .dataframe tbody tr th:only-of-type {\n",
       "        vertical-align: middle;\n",
       "    }\n",
       "\n",
       "    .dataframe tbody tr th {\n",
       "        vertical-align: top;\n",
       "    }\n",
       "\n",
       "    .dataframe thead th {\n",
       "        text-align: right;\n",
       "    }\n",
       "</style>\n",
       "<table border=\"1\" class=\"dataframe\">\n",
       "  <thead>\n",
       "    <tr style=\"text-align: right;\">\n",
       "      <th></th>\n",
       "      <th>Date</th>\n",
       "      <th>Open</th>\n",
       "      <th>High</th>\n",
       "      <th>Low</th>\n",
       "      <th>Close</th>\n",
       "      <th>Volume</th>\n",
       "      <th>Adj Close</th>\n",
       "    </tr>\n",
       "  </thead>\n",
       "  <tbody>\n",
       "    <tr>\n",
       "      <th>0</th>\n",
       "      <td>12/30/2016</td>\n",
       "      <td>62.959999</td>\n",
       "      <td>62.990002</td>\n",
       "      <td>62.029999</td>\n",
       "      <td>62.139999</td>\n",
       "      <td>25465900</td>\n",
       "      <td>62.139999</td>\n",
       "    </tr>\n",
       "    <tr>\n",
       "      <th>1</th>\n",
       "      <td>12/29/2016</td>\n",
       "      <td>62.860001</td>\n",
       "      <td>63.200001</td>\n",
       "      <td>62.730000</td>\n",
       "      <td>62.900002</td>\n",
       "      <td>10181600</td>\n",
       "      <td>62.900002</td>\n",
       "    </tr>\n",
       "    <tr>\n",
       "      <th>2</th>\n",
       "      <td>12/28/2016</td>\n",
       "      <td>63.400002</td>\n",
       "      <td>63.400002</td>\n",
       "      <td>62.830002</td>\n",
       "      <td>62.990002</td>\n",
       "      <td>14247400</td>\n",
       "      <td>62.990002</td>\n",
       "    </tr>\n",
       "    <tr>\n",
       "      <th>3</th>\n",
       "      <td>12/27/2016</td>\n",
       "      <td>63.209999</td>\n",
       "      <td>64.070000</td>\n",
       "      <td>63.209999</td>\n",
       "      <td>63.279999</td>\n",
       "      <td>11583900</td>\n",
       "      <td>63.279999</td>\n",
       "    </tr>\n",
       "    <tr>\n",
       "      <th>4</th>\n",
       "      <td>12/23/2016</td>\n",
       "      <td>63.450001</td>\n",
       "      <td>63.540001</td>\n",
       "      <td>62.799999</td>\n",
       "      <td>63.240002</td>\n",
       "      <td>12398000</td>\n",
       "      <td>63.240002</td>\n",
       "    </tr>\n",
       "    <tr>\n",
       "      <th>...</th>\n",
       "      <td>...</td>\n",
       "      <td>...</td>\n",
       "      <td>...</td>\n",
       "      <td>...</td>\n",
       "      <td>...</td>\n",
       "      <td>...</td>\n",
       "      <td>...</td>\n",
       "    </tr>\n",
       "    <tr>\n",
       "      <th>2513</th>\n",
       "      <td>1/9/2007</td>\n",
       "      <td>30.000000</td>\n",
       "      <td>30.180000</td>\n",
       "      <td>29.730000</td>\n",
       "      <td>29.959999</td>\n",
       "      <td>44636600</td>\n",
       "      <td>23.557044</td>\n",
       "    </tr>\n",
       "    <tr>\n",
       "      <th>2514</th>\n",
       "      <td>1/8/2007</td>\n",
       "      <td>29.650000</td>\n",
       "      <td>30.100000</td>\n",
       "      <td>29.530001</td>\n",
       "      <td>29.930000</td>\n",
       "      <td>50220200</td>\n",
       "      <td>23.533456</td>\n",
       "    </tr>\n",
       "    <tr>\n",
       "      <th>2515</th>\n",
       "      <td>1/5/2007</td>\n",
       "      <td>29.629999</td>\n",
       "      <td>29.750000</td>\n",
       "      <td>29.450001</td>\n",
       "      <td>29.639999</td>\n",
       "      <td>44607200</td>\n",
       "      <td>23.305433</td>\n",
       "    </tr>\n",
       "    <tr>\n",
       "      <th>2516</th>\n",
       "      <td>1/4/2007</td>\n",
       "      <td>29.700001</td>\n",
       "      <td>29.969999</td>\n",
       "      <td>29.440001</td>\n",
       "      <td>29.809999</td>\n",
       "      <td>45774500</td>\n",
       "      <td>23.439102</td>\n",
       "    </tr>\n",
       "    <tr>\n",
       "      <th>2517</th>\n",
       "      <td>1/3/2007</td>\n",
       "      <td>29.910000</td>\n",
       "      <td>30.250000</td>\n",
       "      <td>29.400000</td>\n",
       "      <td>29.860001</td>\n",
       "      <td>76935100</td>\n",
       "      <td>23.478417</td>\n",
       "    </tr>\n",
       "  </tbody>\n",
       "</table>\n",
       "<p>2518 rows × 7 columns</p>\n",
       "</div>"
      ],
      "text/plain": [
       "            Date       Open       High        Low      Close    Volume  \\\n",
       "0     12/30/2016  62.959999  62.990002  62.029999  62.139999  25465900   \n",
       "1     12/29/2016  62.860001  63.200001  62.730000  62.900002  10181600   \n",
       "2     12/28/2016  63.400002  63.400002  62.830002  62.990002  14247400   \n",
       "3     12/27/2016  63.209999  64.070000  63.209999  63.279999  11583900   \n",
       "4     12/23/2016  63.450001  63.540001  62.799999  63.240002  12398000   \n",
       "...          ...        ...        ...        ...        ...       ...   \n",
       "2513    1/9/2007  30.000000  30.180000  29.730000  29.959999  44636600   \n",
       "2514    1/8/2007  29.650000  30.100000  29.530001  29.930000  50220200   \n",
       "2515    1/5/2007  29.629999  29.750000  29.450001  29.639999  44607200   \n",
       "2516    1/4/2007  29.700001  29.969999  29.440001  29.809999  45774500   \n",
       "2517    1/3/2007  29.910000  30.250000  29.400000  29.860001  76935100   \n",
       "\n",
       "      Adj Close  \n",
       "0     62.139999  \n",
       "1     62.900002  \n",
       "2     62.990002  \n",
       "3     63.279999  \n",
       "4     63.240002  \n",
       "...         ...  \n",
       "2513  23.557044  \n",
       "2514  23.533456  \n",
       "2515  23.305433  \n",
       "2516  23.439102  \n",
       "2517  23.478417  \n",
       "\n",
       "[2518 rows x 7 columns]"
      ]
     },
     "execution_count": 218,
     "metadata": {},
     "output_type": "execute_result"
    }
   ],
   "source": [
    "msft_df = pd.read_csv(\"msft.csv\")\n",
    "msft_df"
   ]
  },
  {
   "cell_type": "code",
   "execution_count": 219,
   "id": "0ff7cefa-399a-4350-87f8-dd0d24ce171b",
   "metadata": {},
   "outputs": [
    {
     "data": {
      "text/plain": [
       "False"
      ]
     },
     "execution_count": 219,
     "metadata": {},
     "output_type": "execute_result"
    }
   ],
   "source": [
    "msft_df.isnull().values.any()"
   ]
  },
  {
   "cell_type": "code",
   "execution_count": 220,
   "id": "7c7e405e-0dc3-4aeb-aed6-cf5f935d8ec7",
   "metadata": {},
   "outputs": [
    {
     "data": {
      "text/html": [
       "<div>\n",
       "<style scoped>\n",
       "    .dataframe tbody tr th:only-of-type {\n",
       "        vertical-align: middle;\n",
       "    }\n",
       "\n",
       "    .dataframe tbody tr th {\n",
       "        vertical-align: top;\n",
       "    }\n",
       "\n",
       "    .dataframe thead th {\n",
       "        text-align: right;\n",
       "    }\n",
       "</style>\n",
       "<table border=\"1\" class=\"dataframe\">\n",
       "  <thead>\n",
       "    <tr style=\"text-align: right;\">\n",
       "      <th></th>\n",
       "      <th>Date</th>\n",
       "      <th>Open</th>\n",
       "      <th>High</th>\n",
       "      <th>Low</th>\n",
       "      <th>Close</th>\n",
       "      <th>Volume</th>\n",
       "      <th>Adj Close</th>\n",
       "      <th>date_delta</th>\n",
       "    </tr>\n",
       "  </thead>\n",
       "  <tbody>\n",
       "    <tr>\n",
       "      <th>0</th>\n",
       "      <td>2016-12-30</td>\n",
       "      <td>62.959999</td>\n",
       "      <td>62.990002</td>\n",
       "      <td>62.029999</td>\n",
       "      <td>62.139999</td>\n",
       "      <td>25465900</td>\n",
       "      <td>62.139999</td>\n",
       "      <td>3649.0</td>\n",
       "    </tr>\n",
       "    <tr>\n",
       "      <th>1</th>\n",
       "      <td>2016-12-29</td>\n",
       "      <td>62.860001</td>\n",
       "      <td>63.200001</td>\n",
       "      <td>62.730000</td>\n",
       "      <td>62.900002</td>\n",
       "      <td>10181600</td>\n",
       "      <td>62.900002</td>\n",
       "      <td>3648.0</td>\n",
       "    </tr>\n",
       "    <tr>\n",
       "      <th>2</th>\n",
       "      <td>2016-12-28</td>\n",
       "      <td>63.400002</td>\n",
       "      <td>63.400002</td>\n",
       "      <td>62.830002</td>\n",
       "      <td>62.990002</td>\n",
       "      <td>14247400</td>\n",
       "      <td>62.990002</td>\n",
       "      <td>3647.0</td>\n",
       "    </tr>\n",
       "    <tr>\n",
       "      <th>3</th>\n",
       "      <td>2016-12-27</td>\n",
       "      <td>63.209999</td>\n",
       "      <td>64.070000</td>\n",
       "      <td>63.209999</td>\n",
       "      <td>63.279999</td>\n",
       "      <td>11583900</td>\n",
       "      <td>63.279999</td>\n",
       "      <td>3646.0</td>\n",
       "    </tr>\n",
       "    <tr>\n",
       "      <th>4</th>\n",
       "      <td>2016-12-23</td>\n",
       "      <td>63.450001</td>\n",
       "      <td>63.540001</td>\n",
       "      <td>62.799999</td>\n",
       "      <td>63.240002</td>\n",
       "      <td>12398000</td>\n",
       "      <td>63.240002</td>\n",
       "      <td>3642.0</td>\n",
       "    </tr>\n",
       "    <tr>\n",
       "      <th>...</th>\n",
       "      <td>...</td>\n",
       "      <td>...</td>\n",
       "      <td>...</td>\n",
       "      <td>...</td>\n",
       "      <td>...</td>\n",
       "      <td>...</td>\n",
       "      <td>...</td>\n",
       "      <td>...</td>\n",
       "    </tr>\n",
       "    <tr>\n",
       "      <th>2513</th>\n",
       "      <td>2007-01-09</td>\n",
       "      <td>30.000000</td>\n",
       "      <td>30.180000</td>\n",
       "      <td>29.730000</td>\n",
       "      <td>29.959999</td>\n",
       "      <td>44636600</td>\n",
       "      <td>23.557044</td>\n",
       "      <td>6.0</td>\n",
       "    </tr>\n",
       "    <tr>\n",
       "      <th>2514</th>\n",
       "      <td>2007-01-08</td>\n",
       "      <td>29.650000</td>\n",
       "      <td>30.100000</td>\n",
       "      <td>29.530001</td>\n",
       "      <td>29.930000</td>\n",
       "      <td>50220200</td>\n",
       "      <td>23.533456</td>\n",
       "      <td>5.0</td>\n",
       "    </tr>\n",
       "    <tr>\n",
       "      <th>2515</th>\n",
       "      <td>2007-01-05</td>\n",
       "      <td>29.629999</td>\n",
       "      <td>29.750000</td>\n",
       "      <td>29.450001</td>\n",
       "      <td>29.639999</td>\n",
       "      <td>44607200</td>\n",
       "      <td>23.305433</td>\n",
       "      <td>2.0</td>\n",
       "    </tr>\n",
       "    <tr>\n",
       "      <th>2516</th>\n",
       "      <td>2007-01-04</td>\n",
       "      <td>29.700001</td>\n",
       "      <td>29.969999</td>\n",
       "      <td>29.440001</td>\n",
       "      <td>29.809999</td>\n",
       "      <td>45774500</td>\n",
       "      <td>23.439102</td>\n",
       "      <td>1.0</td>\n",
       "    </tr>\n",
       "    <tr>\n",
       "      <th>2517</th>\n",
       "      <td>2007-01-03</td>\n",
       "      <td>29.910000</td>\n",
       "      <td>30.250000</td>\n",
       "      <td>29.400000</td>\n",
       "      <td>29.860001</td>\n",
       "      <td>76935100</td>\n",
       "      <td>23.478417</td>\n",
       "      <td>0.0</td>\n",
       "    </tr>\n",
       "  </tbody>\n",
       "</table>\n",
       "<p>2518 rows × 8 columns</p>\n",
       "</div>"
      ],
      "text/plain": [
       "           Date       Open       High        Low      Close    Volume  \\\n",
       "0    2016-12-30  62.959999  62.990002  62.029999  62.139999  25465900   \n",
       "1    2016-12-29  62.860001  63.200001  62.730000  62.900002  10181600   \n",
       "2    2016-12-28  63.400002  63.400002  62.830002  62.990002  14247400   \n",
       "3    2016-12-27  63.209999  64.070000  63.209999  63.279999  11583900   \n",
       "4    2016-12-23  63.450001  63.540001  62.799999  63.240002  12398000   \n",
       "...         ...        ...        ...        ...        ...       ...   \n",
       "2513 2007-01-09  30.000000  30.180000  29.730000  29.959999  44636600   \n",
       "2514 2007-01-08  29.650000  30.100000  29.530001  29.930000  50220200   \n",
       "2515 2007-01-05  29.629999  29.750000  29.450001  29.639999  44607200   \n",
       "2516 2007-01-04  29.700001  29.969999  29.440001  29.809999  45774500   \n",
       "2517 2007-01-03  29.910000  30.250000  29.400000  29.860001  76935100   \n",
       "\n",
       "      Adj Close  date_delta  \n",
       "0     62.139999      3649.0  \n",
       "1     62.900002      3648.0  \n",
       "2     62.990002      3647.0  \n",
       "3     63.279999      3646.0  \n",
       "4     63.240002      3642.0  \n",
       "...         ...         ...  \n",
       "2513  23.557044         6.0  \n",
       "2514  23.533456         5.0  \n",
       "2515  23.305433         2.0  \n",
       "2516  23.439102         1.0  \n",
       "2517  23.478417         0.0  \n",
       "\n",
       "[2518 rows x 8 columns]"
      ]
     },
     "execution_count": 220,
     "metadata": {},
     "output_type": "execute_result"
    }
   ],
   "source": [
    "msft_df['Date'] = pd.to_datetime(msft_df['Date'])    \n",
    "msft_df['date_delta'] = (msft_df['Date'] - msft_df['Date'].min())  / np.timedelta64(1,'D')\n",
    "msft_df"
   ]
  },
  {
   "cell_type": "code",
   "execution_count": 221,
   "id": "2561758c-3fc3-4968-b24b-27e0229685a7",
   "metadata": {},
   "outputs": [
    {
     "data": {
      "text/html": [
       "<div>\n",
       "<style scoped>\n",
       "    .dataframe tbody tr th:only-of-type {\n",
       "        vertical-align: middle;\n",
       "    }\n",
       "\n",
       "    .dataframe tbody tr th {\n",
       "        vertical-align: top;\n",
       "    }\n",
       "\n",
       "    .dataframe thead th {\n",
       "        text-align: right;\n",
       "    }\n",
       "</style>\n",
       "<table border=\"1\" class=\"dataframe\">\n",
       "  <thead>\n",
       "    <tr style=\"text-align: right;\">\n",
       "      <th></th>\n",
       "      <th>Open</th>\n",
       "      <th>High</th>\n",
       "      <th>Low</th>\n",
       "      <th>Close</th>\n",
       "      <th>Volume</th>\n",
       "      <th>date_delta</th>\n",
       "    </tr>\n",
       "  </thead>\n",
       "  <tbody>\n",
       "    <tr>\n",
       "      <th>0</th>\n",
       "      <td>62.959999</td>\n",
       "      <td>62.990002</td>\n",
       "      <td>62.029999</td>\n",
       "      <td>62.139999</td>\n",
       "      <td>25465900</td>\n",
       "      <td>3649.0</td>\n",
       "    </tr>\n",
       "    <tr>\n",
       "      <th>1</th>\n",
       "      <td>62.860001</td>\n",
       "      <td>63.200001</td>\n",
       "      <td>62.730000</td>\n",
       "      <td>62.900002</td>\n",
       "      <td>10181600</td>\n",
       "      <td>3648.0</td>\n",
       "    </tr>\n",
       "    <tr>\n",
       "      <th>2</th>\n",
       "      <td>63.400002</td>\n",
       "      <td>63.400002</td>\n",
       "      <td>62.830002</td>\n",
       "      <td>62.990002</td>\n",
       "      <td>14247400</td>\n",
       "      <td>3647.0</td>\n",
       "    </tr>\n",
       "    <tr>\n",
       "      <th>3</th>\n",
       "      <td>63.209999</td>\n",
       "      <td>64.070000</td>\n",
       "      <td>63.209999</td>\n",
       "      <td>63.279999</td>\n",
       "      <td>11583900</td>\n",
       "      <td>3646.0</td>\n",
       "    </tr>\n",
       "    <tr>\n",
       "      <th>4</th>\n",
       "      <td>63.450001</td>\n",
       "      <td>63.540001</td>\n",
       "      <td>62.799999</td>\n",
       "      <td>63.240002</td>\n",
       "      <td>12398000</td>\n",
       "      <td>3642.0</td>\n",
       "    </tr>\n",
       "    <tr>\n",
       "      <th>...</th>\n",
       "      <td>...</td>\n",
       "      <td>...</td>\n",
       "      <td>...</td>\n",
       "      <td>...</td>\n",
       "      <td>...</td>\n",
       "      <td>...</td>\n",
       "    </tr>\n",
       "    <tr>\n",
       "      <th>2513</th>\n",
       "      <td>30.000000</td>\n",
       "      <td>30.180000</td>\n",
       "      <td>29.730000</td>\n",
       "      <td>29.959999</td>\n",
       "      <td>44636600</td>\n",
       "      <td>6.0</td>\n",
       "    </tr>\n",
       "    <tr>\n",
       "      <th>2514</th>\n",
       "      <td>29.650000</td>\n",
       "      <td>30.100000</td>\n",
       "      <td>29.530001</td>\n",
       "      <td>29.930000</td>\n",
       "      <td>50220200</td>\n",
       "      <td>5.0</td>\n",
       "    </tr>\n",
       "    <tr>\n",
       "      <th>2515</th>\n",
       "      <td>29.629999</td>\n",
       "      <td>29.750000</td>\n",
       "      <td>29.450001</td>\n",
       "      <td>29.639999</td>\n",
       "      <td>44607200</td>\n",
       "      <td>2.0</td>\n",
       "    </tr>\n",
       "    <tr>\n",
       "      <th>2516</th>\n",
       "      <td>29.700001</td>\n",
       "      <td>29.969999</td>\n",
       "      <td>29.440001</td>\n",
       "      <td>29.809999</td>\n",
       "      <td>45774500</td>\n",
       "      <td>1.0</td>\n",
       "    </tr>\n",
       "    <tr>\n",
       "      <th>2517</th>\n",
       "      <td>29.910000</td>\n",
       "      <td>30.250000</td>\n",
       "      <td>29.400000</td>\n",
       "      <td>29.860001</td>\n",
       "      <td>76935100</td>\n",
       "      <td>0.0</td>\n",
       "    </tr>\n",
       "  </tbody>\n",
       "</table>\n",
       "<p>2518 rows × 6 columns</p>\n",
       "</div>"
      ],
      "text/plain": [
       "           Open       High        Low      Close    Volume  date_delta\n",
       "0     62.959999  62.990002  62.029999  62.139999  25465900      3649.0\n",
       "1     62.860001  63.200001  62.730000  62.900002  10181600      3648.0\n",
       "2     63.400002  63.400002  62.830002  62.990002  14247400      3647.0\n",
       "3     63.209999  64.070000  63.209999  63.279999  11583900      3646.0\n",
       "4     63.450001  63.540001  62.799999  63.240002  12398000      3642.0\n",
       "...         ...        ...        ...        ...       ...         ...\n",
       "2513  30.000000  30.180000  29.730000  29.959999  44636600         6.0\n",
       "2514  29.650000  30.100000  29.530001  29.930000  50220200         5.0\n",
       "2515  29.629999  29.750000  29.450001  29.639999  44607200         2.0\n",
       "2516  29.700001  29.969999  29.440001  29.809999  45774500         1.0\n",
       "2517  29.910000  30.250000  29.400000  29.860001  76935100         0.0\n",
       "\n",
       "[2518 rows x 6 columns]"
      ]
     },
     "execution_count": 221,
     "metadata": {},
     "output_type": "execute_result"
    }
   ],
   "source": [
    "X = msft_df.drop(['Date', 'Adj Close'], axis=1)\n",
    "X"
   ]
  },
  {
   "cell_type": "code",
   "execution_count": 222,
   "id": "763e172c-867e-461c-851e-6ff48c56041a",
   "metadata": {},
   "outputs": [
    {
     "data": {
      "text/html": [
       "<div>\n",
       "<style scoped>\n",
       "    .dataframe tbody tr th:only-of-type {\n",
       "        vertical-align: middle;\n",
       "    }\n",
       "\n",
       "    .dataframe tbody tr th {\n",
       "        vertical-align: top;\n",
       "    }\n",
       "\n",
       "    .dataframe thead th {\n",
       "        text-align: right;\n",
       "    }\n",
       "</style>\n",
       "<table border=\"1\" class=\"dataframe\">\n",
       "  <thead>\n",
       "    <tr style=\"text-align: right;\">\n",
       "      <th></th>\n",
       "      <th>Adj Close</th>\n",
       "    </tr>\n",
       "  </thead>\n",
       "  <tbody>\n",
       "    <tr>\n",
       "      <th>0</th>\n",
       "      <td>62.139999</td>\n",
       "    </tr>\n",
       "    <tr>\n",
       "      <th>1</th>\n",
       "      <td>62.900002</td>\n",
       "    </tr>\n",
       "    <tr>\n",
       "      <th>2</th>\n",
       "      <td>62.990002</td>\n",
       "    </tr>\n",
       "    <tr>\n",
       "      <th>3</th>\n",
       "      <td>63.279999</td>\n",
       "    </tr>\n",
       "    <tr>\n",
       "      <th>4</th>\n",
       "      <td>63.240002</td>\n",
       "    </tr>\n",
       "    <tr>\n",
       "      <th>...</th>\n",
       "      <td>...</td>\n",
       "    </tr>\n",
       "    <tr>\n",
       "      <th>2513</th>\n",
       "      <td>23.557044</td>\n",
       "    </tr>\n",
       "    <tr>\n",
       "      <th>2514</th>\n",
       "      <td>23.533456</td>\n",
       "    </tr>\n",
       "    <tr>\n",
       "      <th>2515</th>\n",
       "      <td>23.305433</td>\n",
       "    </tr>\n",
       "    <tr>\n",
       "      <th>2516</th>\n",
       "      <td>23.439102</td>\n",
       "    </tr>\n",
       "    <tr>\n",
       "      <th>2517</th>\n",
       "      <td>23.478417</td>\n",
       "    </tr>\n",
       "  </tbody>\n",
       "</table>\n",
       "<p>2518 rows × 1 columns</p>\n",
       "</div>"
      ],
      "text/plain": [
       "      Adj Close\n",
       "0     62.139999\n",
       "1     62.900002\n",
       "2     62.990002\n",
       "3     63.279999\n",
       "4     63.240002\n",
       "...         ...\n",
       "2513  23.557044\n",
       "2514  23.533456\n",
       "2515  23.305433\n",
       "2516  23.439102\n",
       "2517  23.478417\n",
       "\n",
       "[2518 rows x 1 columns]"
      ]
     },
     "execution_count": 222,
     "metadata": {},
     "output_type": "execute_result"
    }
   ],
   "source": [
    "Y = pd.DataFrame(msft_df['Adj Close'].copy())\n",
    "Y"
   ]
  },
  {
   "cell_type": "code",
   "execution_count": 223,
   "id": "c5371a68-61dc-4897-9464-7261b317966f",
   "metadata": {},
   "outputs": [],
   "source": [
    "X_train, X_test, Y_train, Y_test = train_test_split(X, Y, test_size = 0.8, random_state=1)"
   ]
  },
  {
   "cell_type": "code",
   "execution_count": 224,
   "id": "547c78bd-c695-4e3b-b584-c5bb6f4c34df",
   "metadata": {},
   "outputs": [],
   "source": [
    "from sklearn.tree import DecisionTreeRegressor"
   ]
  },
  {
   "cell_type": "code",
   "execution_count": 225,
   "id": "392a0e88-ffe1-4b1e-a26c-7c53b77da9a6",
   "metadata": {},
   "outputs": [
    {
     "data": {
      "text/plain": [
       "0.9985752740927072"
      ]
     },
     "execution_count": 225,
     "metadata": {},
     "output_type": "execute_result"
    }
   ],
   "source": [
    "\n",
    "reg_decision_model=DecisionTreeRegressor()\n",
    "reg_decision_model.fit(X_train,Y_train)\n",
    "reg_decision_model.score(X_test,Y_test)"
   ]
  },
  {
   "cell_type": "markdown",
   "id": "c99f5cc7-eab0-48ec-9102-d011590a6f69",
   "metadata": {},
   "source": [
    "# a) note: converted date to days(int) for preprocessing"
   ]
  },
  {
   "cell_type": "code",
   "execution_count": 226,
   "id": "a0feb916-2efb-4e59-8ed0-e024dd305324",
   "metadata": {},
   "outputs": [
    {
     "name": "stdout",
     "output_type": "stream",
     "text": [
      "Fitting 5 folds for each of 1152 candidates, totalling 5760 fits\n"
     ]
    },
    {
     "data": {
      "text/plain": [
       "DecisionTreeRegressor(criterion='friedman_mse', max_depth=100,\n",
       "                      min_samples_leaf=3, min_samples_split=5)"
      ]
     },
     "execution_count": 226,
     "metadata": {},
     "output_type": "execute_result"
    }
   ],
   "source": [
    "# params = {'criterion': ['squared_error', 'friedman_mse', 'absolute_error', 'poisson'],'splitter': ['best','random'], 'max_depth': [2, 3, 4, 5, 10],\n",
    "#           'min_samples_split' : [2, 3, 4, 5], 'min_samples_leaf' : [2, 3, 4, 5] }\n",
    "\n",
    "params = {'criterion': ['squared_error', 'friedman_mse', 'absolute_error', 'poisson'],'splitter': ['best','random'], 'max_depth': [2, 3, 4, 5, 10, 20, 30, 50, 100],\n",
    "         'min_samples_split' : [2, 3, 4, 5], 'min_samples_leaf' : [2, 3, 4, 5] }\n",
    "\n",
    "grid_search = GridSearchCV(estimator=DecisionTreeRegressor(), param_grid=params, cv=5, n_jobs=-1,verbose=1, scoring = 'neg_mean_squared_error')\n",
    "\n",
    "grid_search.fit(X_train, Y_train)\n",
    "\n",
    "grid_search.best_estimator_ "
   ]
  },
  {
   "cell_type": "markdown",
   "id": "062ddc00-9549-478e-9011-ae9d38d06d3d",
   "metadata": {},
   "source": [
    "# b) RMSE: 0.217"
   ]
  },
  {
   "cell_type": "code",
   "execution_count": 228,
   "id": "b3e3a674-0c9c-4783-95ea-06993f18fc0b",
   "metadata": {},
   "outputs": [],
   "source": [
    "DTR = DecisionTreeRegressor(criterion='friedman_mse', max_depth=100,\n",
    "                      min_samples_leaf=3, min_samples_split=5)\n",
    "DTR.fit(X_train,Y_train)\n",
    "DTR.score(X_test,Y_test)\n",
    "\n",
    "\n",
    "# DTR_best = grid_search.best_estimator_ \n",
    "\n",
    "y_pred= DTR.predict(X_test) "
   ]
  },
  {
   "cell_type": "code",
   "execution_count": 229,
   "id": "2f94789a-9f23-42dc-a475-85dbd9113b3b",
   "metadata": {},
   "outputs": [
    {
     "name": "stdout",
     "output_type": "stream",
     "text": [
      "RMSE:  0.21703042854921595\n"
     ]
    }
   ],
   "source": [
    "from sklearn.metrics import mean_squared_error\n",
    "rmse = mean_squared_error(y_pred, Y_test)\n",
    "print('RMSE: ', rmse)"
   ]
  },
  {
   "cell_type": "markdown",
   "id": "74909e25-1fd4-408e-8621-86b4b0626994",
   "metadata": {},
   "source": [
    "# c) The best train test split for RMSE performance was 1.0/0 but this is overfitting, \n",
    "# the next best option is 0.1/0.9, the size of that training set was about 2250. The two plots below illustrate this"
   ]
  },
  {
   "cell_type": "code",
   "execution_count": 230,
   "id": "ca3c3b0d-85a7-45c6-8658-e5da6f2c30e8",
   "metadata": {},
   "outputs": [
    {
     "name": "stdout",
     "output_type": "stream",
     "text": [
      "RMSE:  0.043333896565347974\n",
      "RMSE:  0.06195373541483218\n",
      "RMSE:  0.059392424763402084\n",
      "RMSE:  0.08703098524187924\n",
      "RMSE:  0.08434255309773844\n",
      "RMSE:  0.09339128007256714\n",
      "RMSE:  0.12713173254301066\n",
      "RMSE:  0.19820573612696946\n",
      "RMSE:  0.41660470126846666\n",
      "RMSE:  8.013233611107576e-05\n"
     ]
    },
    {
     "name": "stderr",
     "output_type": "stream",
     "text": [
      "C:\\Users\\arist\\anaconda3\\lib\\site-packages\\sklearn\\metrics\\_regression.py:796: UndefinedMetricWarning: R^2 score is not well-defined with less than two samples.\n",
      "  warnings.warn(msg, UndefinedMetricWarning)\n"
     ]
    }
   ],
   "source": [
    "split = [0.1, 0.2, 0.3, 0.4, 0.5, 0.6, 0.7, 0.8, 0.9, 1]\n",
    "rmse_score = []\n",
    "train_len = []\n",
    "\n",
    "for s in split:\n",
    "    X_train, X_test, Y_train, Y_test = train_test_split(X, Y, test_size = s, random_state=1)\n",
    "    DTR = DecisionTreeRegressor(criterion='friedman_mse', max_depth=50, min_samples_leaf=2)\n",
    "    DTR.fit(X_train,Y_train)\n",
    "    DTR.score(X_test,Y_test)\n",
    "    train_len.append(len(X_train))\n",
    "    \n",
    "    DTR_best = grid_search.best_estimator_ \n",
    "\n",
    "    y_pred= DTR.predict(X_test) \n",
    "    rmse = mean_squared_error(y_pred, Y_test)\n",
    "    print('RMSE: ', rmse)\n",
    "    rmse_score.append(rmse)"
   ]
  },
  {
   "cell_type": "code",
   "execution_count": 231,
   "id": "1587f56c-a85d-4cc1-a755-37a7855a9aa3",
   "metadata": {},
   "outputs": [
    {
     "name": "stderr",
     "output_type": "stream",
     "text": [
      "C:\\Users\\arist\\anaconda3\\lib\\site-packages\\seaborn\\_decorators.py:36: FutureWarning: Pass the following variables as keyword args: x, y. From version 0.12, the only valid positional argument will be `data`, and passing other arguments without an explicit keyword will result in an error or misinterpretation.\n",
      "  warnings.warn(\n"
     ]
    },
    {
     "data": {
      "text/plain": [
       "Text(0, 0.5, 'RMSE')"
      ]
     },
     "execution_count": 231,
     "metadata": {},
     "output_type": "execute_result"
    },
    {
     "data": {
      "image/png": "[encoded data removed]",
      "text/plain": [
       "<Figure size 432x288 with 1 Axes>"
      ]
     },
     "metadata": {
      "needs_background": "light"
     },
     "output_type": "display_data"
    }
   ],
   "source": [
    "sns.scatterplot(split, rmse_score)\n",
    "plt.xlabel(\"Split value\")\n",
    "plt.ylabel(\"RMSE\")\n"
   ]
  },
  {
   "cell_type": "code",
   "execution_count": 232,
   "id": "6c20bebe-f455-4956-ae0f-4dce7016d41f",
   "metadata": {},
   "outputs": [
    {
     "name": "stderr",
     "output_type": "stream",
     "text": [
      "C:\\Users\\arist\\anaconda3\\lib\\site-packages\\seaborn\\_decorators.py:36: FutureWarning: Pass the following variables as keyword args: x, y. From version 0.12, the only valid positional argument will be `data`, and passing other arguments without an explicit keyword will result in an error or misinterpretation.\n",
      "  warnings.warn(\n"
     ]
    },
    {
     "data": {
      "text/plain": [
       "Text(0, 0.5, 'RMSE')"
      ]
     },
     "execution_count": 232,
     "metadata": {},
     "output_type": "execute_result"
    },
    {
     "data": {
      "image/png": "[encoded data removed]",
      "text/plain": [
       "<Figure size 432x288 with 1 Axes>"
      ]
     },
     "metadata": {
      "needs_background": "light"
     },
     "output_type": "display_data"
    }
   ],
   "source": [
    "sns.scatterplot(train_len, rmse_score)\n",
    "plt.xlabel(\"Train Size\")\n",
    "plt.ylabel(\"RMSE\")"
   ]
  },
  {
   "cell_type": "markdown",
   "id": "8d580e1d-1d2d-4bea-89c5-6db8860b15e2",
   "metadata": {},
   "source": [
    "# d) the standardization was the best improvement of RMSE from 0.217 to 0.125\n",
    "# min max also helped and produced RMSE of 0.127, normalization performed much worse, however"
   ]
  },
  {
   "cell_type": "code",
   "execution_count": 233,
   "id": "b101913d-e761-4bf2-a19a-fdbaa869f380",
   "metadata": {},
   "outputs": [],
   "source": [
    "from sklearn import preprocessing"
   ]
  },
  {
   "cell_type": "markdown",
   "id": "bdb43605-d993-4d5b-96fe-81e0fd71878e",
   "metadata": {},
   "source": [
    "## i)"
   ]
  },
  {
   "cell_type": "code",
   "execution_count": 252,
   "id": "284ee834-946a-4295-a0dd-8c3a04142d55",
   "metadata": {},
   "outputs": [],
   "source": [
    "X_train, X_test, Y_train, Y_test = train_test_split(X, Y, test_size = 0.7, random_state=1)\n",
    "\n",
    "scaler = preprocessing.StandardScaler().fit(X_train)\n",
    "X_scaled_train = scaler.transform(X_train)\n",
    "X_scaled_test = scaler.transform(X_test)"
   ]
  },
  {
   "cell_type": "code",
   "execution_count": 253,
   "id": "9369277c-8503-4769-938e-8448c49221ec",
   "metadata": {},
   "outputs": [
    {
     "name": "stdout",
     "output_type": "stream",
     "text": [
      "RMSE:  0.12510437798192933\n"
     ]
    }
   ],
   "source": [
    "DTR = DecisionTreeRegressor(criterion='friedman_mse', max_depth=50, min_samples_leaf=2)\n",
    "DTR.fit(X_scaled_train,Y_train)\n",
    "DTR.score(X_scaled_test,Y_test)\n",
    "\n",
    "\n",
    "# DTR_best = grid_search.best_estimator_ \n",
    "\n",
    "y_pred= DTR.predict(X_scaled_test) \n",
    "\n",
    "rmse = mean_squared_error(y_pred, Y_test)\n",
    "print('RMSE: ', rmse)"
   ]
  },
  {
   "cell_type": "markdown",
   "id": "6b20590f-4bef-478a-98c7-5075c07966ef",
   "metadata": {},
   "source": [
    "## ii)"
   ]
  },
  {
   "cell_type": "code",
   "execution_count": 254,
   "id": "84794e10-8feb-4a63-abd2-652dad4ea59a",
   "metadata": {},
   "outputs": [],
   "source": [
    "min_max_scaler = preprocessing.MinMaxScaler().fit(X_train)\n",
    "\n",
    "X_scaled_train = min_max_scaler.transform(X_train)\n",
    "X_scaled_test = min_max_scaler.transform(X_test)"
   ]
  },
  {
   "cell_type": "code",
   "execution_count": 255,
   "id": "e15049b8-90a1-496c-9a26-3a4a9dd15b83",
   "metadata": {},
   "outputs": [
    {
     "name": "stdout",
     "output_type": "stream",
     "text": [
      "RMSE:  0.1277312932016237\n"
     ]
    }
   ],
   "source": [
    "DTR = DecisionTreeRegressor(criterion='friedman_mse', max_depth=50, min_samples_leaf=2)\n",
    "DTR.fit(X_scaled_train,Y_train)\n",
    "DTR.score(X_scaled_test,Y_test)\n",
    "\n",
    "\n",
    "# DTR_best = grid_search.best_estimator_ \n",
    "\n",
    "y_pred= DTR.predict(X_scaled_test) \n",
    "\n",
    "rmse = mean_squared_error(y_pred, Y_test)\n",
    "print('RMSE: ', rmse)"
   ]
  },
  {
   "cell_type": "markdown",
   "id": "15ae0a7c-4435-4b31-9f1e-e811e052d63b",
   "metadata": {},
   "source": [
    "## iii)"
   ]
  },
  {
   "cell_type": "code",
   "execution_count": 256,
   "id": "0f72b737-f8e7-4dfa-9426-4cc360d7b846",
   "metadata": {},
   "outputs": [],
   "source": [
    "normalize_scaler = preprocessing.Normalizer().fit(X_train)\n",
    "\n",
    "X_scaled_train = normalize_scaler.transform(X_train)\n",
    "X_scaled_test = normalize_scaler.transform(X_test)"
   ]
  },
  {
   "cell_type": "code",
   "execution_count": 257,
   "id": "8aabbd28-6010-4b30-a96f-6e09c9b12cda",
   "metadata": {},
   "outputs": [
    {
     "name": "stdout",
     "output_type": "stream",
     "text": [
      "RMSE:  39.81077328755356\n"
     ]
    }
   ],
   "source": [
    "DTR = DecisionTreeRegressor(criterion='friedman_mse', max_depth=50, min_samples_leaf=2)\n",
    "DTR.fit(X_scaled_train,Y_train)\n",
    "DTR.score(X_scaled_test,Y_test)\n",
    "\n",
    "\n",
    "# DTR_best = grid_search.best_estimator_ \n",
    "\n",
    "y_pred= DTR.predict(X_scaled_test) \n",
    "\n",
    "rmse = mean_squared_error(y_pred, Y_test)\n",
    "print('RMSE: ', rmse)"
   ]
  },
  {
   "cell_type": "code",
   "execution_count": null,
   "id": "82115eeb-a968-46cf-9473-0d0c0296de62",
   "metadata": {},
   "outputs": [],
   "source": []
  }
 ],
 "metadata": {
  "kernelspec": {
   "display_name": "Python 3 (ipykernel)",
   "language": "python",
   "name": "python3"
  },
  "language_info": {
   "codemirror_mode": {
    "name": "ipython",
    "version": 3
   },
   "file_extension": ".py",
   "mimetype": "text/x-python",
   "name": "python",
   "nbconvert_exporter": "python",
   "pygments_lexer": "ipython3",
   "version": "3.9.12"
  }
 },
 "nbformat": 4,
 "nbformat_minor": 5
}
